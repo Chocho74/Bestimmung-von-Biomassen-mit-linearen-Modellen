{
 "cells": [
  {
   "cell_type": "markdown",
   "id": "60de6b35",
   "metadata": {},
   "source": [
    "# Erstellung der Modelle und Modellwahlverfahren"
   ]
  },
  {
   "cell_type": "markdown",
   "id": "c7e64b7a",
   "metadata": {},
   "source": [
    "### Laden der Daten und seperation nach Autoren:"
   ]
  },
  {
   "cell_type": "code",
   "execution_count": 12,
   "id": "862d639a",
   "metadata": {},
   "outputs": [
    {
     "data": {
      "text/html": [
       "<table>\n",
       "<thead><tr><th scope=col>author</th><th scope=col>hsl</th><th scope=col>age</th><th scope=col>dbh</th><th scope=col>height</th><th scope=col>biom</th></tr></thead>\n",
       "<tbody>\n",
       "\t<tr><td>Bartelink</td><td>23       </td><td>20       </td><td> 8.4     </td><td> 9.80    </td><td>22.7     </td></tr>\n",
       "\t<tr><td>Bartelink</td><td>23       </td><td>20       </td><td> 9.9     </td><td>11.25    </td><td>29.2     </td></tr>\n",
       "\t<tr><td>Bartelink</td><td>23       </td><td>20       </td><td>10.7     </td><td> 9.70    </td><td>38.7     </td></tr>\n",
       "\t<tr><td>Bartelink</td><td>23       </td><td>21       </td><td>10.6     </td><td> 9.75    </td><td>31.3     </td></tr>\n",
       "\t<tr><td>Bartelink</td><td>23       </td><td>21       </td><td>10.7     </td><td> 9.30    </td><td>32.0     </td></tr>\n",
       "\t<tr><td>Bartelink</td><td>23       </td><td>21       </td><td> 7.0     </td><td> 8.40    </td><td>11.3     </td></tr>\n",
       "</tbody>\n",
       "</table>\n"
      ],
      "text/latex": [
       "\\begin{tabular}{r|llllll}\n",
       " author & hsl & age & dbh & height & biom\\\\\n",
       "\\hline\n",
       "\t Bartelink & 23        & 20        &  8.4      &  9.80     & 22.7     \\\\\n",
       "\t Bartelink & 23        & 20        &  9.9      & 11.25     & 29.2     \\\\\n",
       "\t Bartelink & 23        & 20        & 10.7      &  9.70     & 38.7     \\\\\n",
       "\t Bartelink & 23        & 21        & 10.6      &  9.75     & 31.3     \\\\\n",
       "\t Bartelink & 23        & 21        & 10.7      &  9.30     & 32.0     \\\\\n",
       "\t Bartelink & 23        & 21        &  7.0      &  8.40     & 11.3     \\\\\n",
       "\\end{tabular}\n"
      ],
      "text/markdown": [
       "\n",
       "| author | hsl | age | dbh | height | biom |\n",
       "|---|---|---|---|---|---|\n",
       "| Bartelink | 23        | 20        |  8.4      |  9.80     | 22.7      |\n",
       "| Bartelink | 23        | 20        |  9.9      | 11.25     | 29.2      |\n",
       "| Bartelink | 23        | 20        | 10.7      |  9.70     | 38.7      |\n",
       "| Bartelink | 23        | 21        | 10.6      |  9.75     | 31.3      |\n",
       "| Bartelink | 23        | 21        | 10.7      |  9.30     | 32.0      |\n",
       "| Bartelink | 23        | 21        |  7.0      |  8.40     | 11.3      |\n",
       "\n"
      ],
      "text/plain": [
       "  author    hsl age dbh  height biom\n",
       "1 Bartelink 23  20   8.4  9.80  22.7\n",
       "2 Bartelink 23  20   9.9 11.25  29.2\n",
       "3 Bartelink 23  20  10.7  9.70  38.7\n",
       "4 Bartelink 23  21  10.6  9.75  31.3\n",
       "5 Bartelink 23  21  10.7  9.30  32.0\n",
       "6 Bartelink 23  21   7.0  8.40  11.3"
      ]
     },
     "metadata": {},
     "output_type": "display_data"
    }
   ],
   "source": [
    "beech.data <- read.csv(\"buche.csv\")\n",
    "head(beech.data)"
   ]
  },
  {
   "cell_type": "code",
   "execution_count": 13,
   "id": "9b7f57b4",
   "metadata": {},
   "outputs": [],
   "source": [
    "authors=unique(beech.data$author)\n",
    "for (string in authors) {\n",
    "  value <- subset(beech.data, author == string)  # Setze hier den gewünschten Wert ein\n",
    "  assign(paste0(\"data_\", string), value)\n",
    "}"
   ]
  },
  {
   "cell_type": "code",
   "execution_count": 14,
   "id": "7bb7655d",
   "metadata": {
    "scrolled": true
   },
   "outputs": [
    {
     "data": {
      "text/html": [
       "<ol class=list-inline>\n",
       "\t<li>Bartelink</li>\n",
       "\t<li>Heller</li>\n",
       "\t<li>Joosten</li>\n",
       "</ol>\n",
       "\n",
       "<details>\n",
       "\t<summary style=display:list-item;cursor:pointer>\n",
       "\t\t<strong>Levels</strong>:\n",
       "\t</summary>\n",
       "\t<ol class=list-inline>\n",
       "\t\t<li>'Bartelink'</li>\n",
       "\t\t<li>'Heller'</li>\n",
       "\t\t<li>'Joosten'</li>\n",
       "\t</ol>\n",
       "</details>"
      ],
      "text/latex": [
       "\\begin{enumerate*}\n",
       "\\item Bartelink\n",
       "\\item Heller\n",
       "\\item Joosten\n",
       "\\end{enumerate*}\n",
       "\n",
       "\\emph{Levels}: \\begin{enumerate*}\n",
       "\\item 'Bartelink'\n",
       "\\item 'Heller'\n",
       "\\item 'Joosten'\n",
       "\\end{enumerate*}\n"
      ],
      "text/markdown": [
       "1. Bartelink\n",
       "2. Heller\n",
       "3. Joosten\n",
       "\n",
       "\n",
       "\n",
       "**Levels**: 1. 'Bartelink'\n",
       "2. 'Heller'\n",
       "3. 'Joosten'\n",
       "\n",
       "\n"
      ],
      "text/plain": [
       "[1] Bartelink Heller    Joosten  \n",
       "Levels: Bartelink Heller Joosten"
      ]
     },
     "metadata": {},
     "output_type": "display_data"
    }
   ],
   "source": [
    "authors"
   ]
  },
  {
   "cell_type": "markdown",
   "id": "4d2ef8b5",
   "metadata": {},
   "source": [
    "<br>\n",
    "<font size=\"4\"> <font color='green'> Auswahl des Datensatzes von einem Autor:</font> </font>\n",
    "<br>"
   ]
  },
  {
   "cell_type": "code",
   "execution_count": 21,
   "id": "46a64d2d",
   "metadata": {},
   "outputs": [],
   "source": [
    "### selection of the current authors data\n",
    "current_data=data_Joosten\n",
    "title=\"Joosten\""
   ]
  },
  {
   "cell_type": "code",
   "execution_count": 22,
   "id": "d6913d99",
   "metadata": {},
   "outputs": [
    {
     "data": {
      "image/png": "[encoded data removed]",
      "text/plain": [
       "plot without title"
      ]
     },
     "metadata": {},
     "output_type": "display_data"
    }
   ],
   "source": [
    "### visualisation of the correlation of the influencing factors\n",
    "options(repr.plot.width = 4, repr.plot.height = 4)\n",
    "plot(current_data[3:5])"
   ]
  },
  {
   "cell_type": "code",
   "execution_count": 17,
   "id": "03c56e49",
   "metadata": {
    "scrolled": false
   },
   "outputs": [
    {
     "data": {
      "image/png": "[encoded data removed]",
      "text/plain": [
       "plot without title"
      ]
     },
     "metadata": {},
     "output_type": "display_data"
    }
   ],
   "source": [
    "### visualize the relevant dependencies of the biomass and the influencing factors for every authors data\n",
    "### age is green; dbh(durchmesserBrusthöhe) is red; height is black\n",
    "### first row is from author Bartelink, second from Heller and third from Joosten\n",
    "\n",
    "par(mfrow=c(3,3), mar=c(3,3,1,1))\n",
    "plot(biom~age, data=data_Bartelink,xlab=\"age\", ylab=\"biomass\",col=3)\n",
    "plot(biom~dbh, data=data_Bartelink,xlab=\"dbh\", ylab=\"biomass\",col=2)\n",
    "plot(biom~height, data=data_Bartelink,xlab=\"height\", ylab=\"biomass\")\n",
    "plot(biom~age, data=data_Heller,xlab=\"age\", ylab=\"biomass\",col=3)\n",
    "plot(biom~dbh, data=data_Heller,xlab=\"dbh\", ylab=\"biomass\",col=2)\n",
    "plot(biom~height, data=data_Heller,xlab=\"height\", ylab=\"biomass\")\n",
    "plot(biom~age, data=data_Joosten,xlab=\"age\", ylab=\"biomass\",col=3)\n",
    "plot(biom~dbh, data=data_Joosten,xlab=\"dbh\", ylab=\"biomass\",col=2)\n",
    "plot(biom~height, data=data_Joosten,xlab=\"height\", ylab=\"biomass\")"
   ]
  },
  {
   "cell_type": "markdown",
   "id": "bf3cf437",
   "metadata": {},
   "source": [
    "<br>\n",
    "<br>\n",
    "<font size=\"4\">Erstellung von Modellen für genau eine Einflussgröße um die Abhängigkeit zu analysieren:</font>\n",
    "<br>\n",
    "<br>"
   ]
  },
  {
   "cell_type": "code",
   "execution_count": 18,
   "id": "a02fd55b",
   "metadata": {},
   "outputs": [
    {
     "data": {
      "image/png": "[encoded data removed]",
      "text/plain": [
       "Plot with title \"Bartelink\""
      ]
     },
     "metadata": {},
     "output_type": "display_data"
    }
   ],
   "source": [
    "### dependency of the biomass in relation to the age of the beech\n",
    "plot(log(current_data$age), log(current_data$biom), main=title, xlab=\"age\", ylab=\"biomass\")\n",
    "Mage1=lm(log(biom) ~ 1 + log(age) , data = current_data)\n",
    "Mage2=lm(log(biom) ~ 1 + log(age) + I(log(age)^2), data = current_data)\n",
    "Mage3=lm(log(biom) ~ 1 + log(age) + I(log(age)^2)+ I(log(age)^3), data = current_data)\n",
    "points(log(current_data$age), predict(Mage3,type='response'), pch=16, col=4)"
   ]
  },
  {
   "cell_type": "code",
   "execution_count": 19,
   "id": "527f58b8",
   "metadata": {},
   "outputs": [
    {
     "data": {
      "image/png": "[encoded data removed]",
      "text/plain": [
       "Plot with title \"\""
      ]
     },
     "metadata": {},
     "output_type": "display_data"
    }
   ],
   "source": [
    "plot(Mage3,which=1)"
   ]
  },
  {
   "cell_type": "code",
   "execution_count": 17,
   "id": "ed670f65",
   "metadata": {},
   "outputs": [
    {
     "data": {
      "image/png": "[encoded data removed]",
      "text/plain": [
       "Plot with title \"Joosten\""
      ]
     },
     "metadata": {},
     "output_type": "display_data"
    }
   ],
   "source": [
    "plot(log(current_data$dbh), log(current_data$biom), main=title, xlab=\"dbh\", ylab=\"biomass\")\n",
    "Mdbh1=lm(log(biom) ~ 1 + I(log(dbh)) , data = current_data)\n",
    "Mdbh2=lm(log(biom) ~ 1 + I(log(dbh)) + I(log(dbh)^2) , data = current_data)\n",
    "Mdbh3=lm(log(biom) ~ 1 + I(log(dbh)) + I(log(dbh)^2) + I(log(dbh)^3) , data = current_data)\n",
    "points(log(current_data$dbh), predict(Mdbh3,type='response'), pch=16, col=4)"
   ]
  },
  {
   "cell_type": "code",
   "execution_count": 19,
   "id": "798ee29c",
   "metadata": {},
   "outputs": [
    {
     "data": {
      "image/png": "[encoded data removed]",
      "text/plain": [
       "Plot with title \"\""
      ]
     },
     "metadata": {},
     "output_type": "display_data"
    }
   ],
   "source": [
    "plot(Mdbh1,which=1)"
   ]
  },
  {
   "cell_type": "code",
   "execution_count": 20,
   "id": "ec70abc9",
   "metadata": {},
   "outputs": [
    {
     "data": {
      "image/png": "[encoded data removed]",
      "text/plain": [
       "Plot with title \"Joosten\""
      ]
     },
     "metadata": {},
     "output_type": "display_data"
    }
   ],
   "source": [
    "plot(log(current_data$height), log(current_data$biom), main=title, xlab=\"height\", ylab=\"biomass\")\n",
    "Mheight1=lm(log(biom) ~ 1 + I(log(height)), data = current_data)\n",
    "Mheight2=lm(log(biom) ~ 1 + I(log(height))+ I(log(height)^2), data = current_data)\n",
    "Mheight3=lm(log(biom) ~ 1 + I(log(height))+ I(log(height)^2)+ I(log(height)^3), data = current_data)\n",
    "points(log(current_data$height), predict(Mheight3,type='response'), pch=16, col=4)"
   ]
  },
  {
   "cell_type": "code",
   "execution_count": 22,
   "id": "fe05e04e",
   "metadata": {},
   "outputs": [
    {
     "data": {
      "image/png": "[encoded data removed]",
      "text/plain": [
       "Plot with title \"\""
      ]
     },
     "metadata": {},
     "output_type": "display_data"
    }
   ],
   "source": [
    "plot(Mheight3,which=1)"
   ]
  },
  {
   "cell_type": "markdown",
   "id": "505f9581",
   "metadata": {},
   "source": [
    "<br>\n",
    "<br>\n",
    "<font size=\"3\">Erstellen von Modellen, die alle (relevanten) Einflussgrößen einbeziehen und aus der vorherigen Analyse als sinnvoll erachtet wurden:</font>\n",
    "<br>\n",
    "<br>"
   ]
  },
  {
   "cell_type": "code",
   "execution_count": 23,
   "id": "ee1448b6",
   "metadata": {},
   "outputs": [],
   "source": [
    "M1=lm(log(biom) ~ 1 + I(log(age)) + log(dbh) + I(log(height)) , data = current_data)\n",
    "M2=lm(log(biom) ~ 1 + I(log(age)) + I(log(age)^2) + log(dbh) + I(log(dbh)^2) + I(log(dbh)^3) + I(log(height)) + I(log(height)^2) + I(log(height)^3) +I(log(height)^4), data = current_data)\n",
    "M3=lm(log(biom) ~ 1 + I(log(age)) + I(log(age)^2) + log(dbh) + I(log(dbh)^2) + I(log(dbh)^3) + I(log(height)) + I(log(height)^2) + I(log(height)^3) + I(log(height)^4) + log(age):log(dbh) + log(age):log(height)+ log(dbh):log(height), data = current_data)\n",
    "M4=lm(log(biom) ~ 1 + I(log(age)) + log(dbh) + I(log(dbh)^2) + I(log(dbh)^3) + I(log(height)) + I(log(height)^3) , data = current_data)\n",
    "M5=lm(log(biom) ~ 1 + I(log(age)) + log(dbh) + I(log(dbh)^2) + I(log(dbh)^3) + I(log(height)) + I(log(height)^3) + log(dbh):log(height) , data = current_data)\n",
    "M6=lm(log(biom) ~ 1 + I(log(age)) + I(log(height)) + log(age):log(height) + log(age):log(dbh), data = current_data)\n",
    "M7=lm(log(biom) ~ 1 + I(log(dbh)) + I(log(height)) + log(dbh):log(height), data = current_data)\n",
    "M8=lm(log(biom) ~ 1 + I(log(dbh)) + I(log(age)) + log(age):log(height), data = current_data)\n"
   ]
  },
  {
   "cell_type": "markdown",
   "id": "8b0fde32",
   "metadata": {},
   "source": [
    "<br>\n",
    "<br>\n",
    "<font size=\"3\">Analyse der Modelle anhand des Medians der Residuals und des Residuen plots. <br> Für jeden Koeffizienten\n",
    "die Auswertung im Vergleich zu allen anderen Modellen wie der Wert für Pr(>|t|) sich verhält </font>\n",
    "<br>\n",
    "<br>"
   ]
  },
  {
   "cell_type": "code",
   "execution_count": 75,
   "id": "e36858f8",
   "metadata": {},
   "outputs": [
    {
     "data": {
      "text/plain": [
       "\n",
       "Call:\n",
       "lm(formula = log(biom) ~ 1 + I(log(age)) + I(log(age)^2) + log(dbh) + \n",
       "    I(log(dbh)^2) + I(log(dbh)^3) + I(log(height)) + I(log(height)^2) + \n",
       "    I(log(height)^3) + I(log(height)^4), data = current_data)\n",
       "\n",
       "Residuals:\n",
       "     Min       1Q   Median       3Q      Max \n",
       "-0.52012 -0.07867  0.03331  0.08109  0.44442 \n",
       "\n",
       "Coefficients:\n",
       "                 Estimate Std. Error t value Pr(>|t|)    \n",
       "(Intercept)      -4.21203    1.33667  -3.151 0.002114 ** \n",
       "I(log(age))       0.58656    0.40885   1.435 0.154331    \n",
       "I(log(age)^2)    -0.06853    0.05258  -1.303 0.195246    \n",
       "log(dbh)          1.33742    0.38822   3.445 0.000819 ***\n",
       "I(log(dbh)^2)     0.30320    0.18427   1.645 0.102840    \n",
       "I(log(dbh)^3)    -0.03351    0.02554  -1.312 0.192252    \n",
       "I(log(height))   -0.01183    2.50109  -0.005 0.996235    \n",
       "I(log(height)^2)  1.47266    1.83850   0.801 0.424915    \n",
       "I(log(height)^3) -0.67601    0.58589  -1.154 0.251173    \n",
       "I(log(height)^4)  0.09218    0.06779   1.360 0.176791    \n",
       "---\n",
       "Signif. codes:  0 '***' 0.001 '**' 0.01 '*' 0.05 '.' 0.1 ' ' 1\n",
       "\n",
       "Residual standard error: 0.1582 on 106 degrees of freedom\n",
       "Multiple R-squared:  0.9957,\tAdjusted R-squared:  0.9954 \n",
       "F-statistic:  2737 on 9 and 106 DF,  p-value: < 2.2e-16\n"
      ]
     },
     "metadata": {},
     "output_type": "display_data"
    }
   ],
   "source": [
    "summary(M2)"
   ]
  },
  {
   "cell_type": "markdown",
   "id": "dc19610b",
   "metadata": {},
   "source": [
    "### Kreuzvalidierung der Modelle:"
   ]
  },
  {
   "cell_type": "code",
   "execution_count": 24,
   "id": "f7cef3ab",
   "metadata": {},
   "outputs": [],
   "source": [
    "kreuzvalidierung <- function(model_list, data) {\n",
    "    \n",
    "    n=dim(data)[1]\n",
    "    groups=floor(min(10,sqrt(n)))\n",
    "    amount_model=length(model_list)\n",
    "    r=dim(data)[1]\n",
    "    \n",
    "    index <- rep(1:groups, length.out=r)\n",
    "    index <- sample(index)\n",
    "\n",
    "    SEP_list=numeric(amount_model)\n",
    "\n",
    "\n",
    "    for (i in 1:groups)\n",
    "    {\n",
    "      ### Zerlegung\n",
    "        data.test <- data[index==i,]\n",
    "        data.train <- data[index!=i,]\n",
    "\n",
    "      ### Parameterschätzung\n",
    "        for (m in 1:amount_model){\n",
    "            suppressWarnings({\n",
    "            updated_model <- update(model_list[[m]], data = data.train)\n",
    "            SEP_list[m] <- SEP_list[m] + sum( ( log(data.test$biom) - predict(updated_model,newdata=data.test) )^2 )\n",
    "            })\n",
    "            \n",
    "        }\n",
    "    }\n",
    "\n",
    "    return (SEP_list)\n",
    "    }"
   ]
  },
  {
   "cell_type": "code",
   "execution_count": 25,
   "id": "596e8d92",
   "metadata": {},
   "outputs": [],
   "source": [
    "### creation of a list with all models\n",
    "model_list=list()\n",
    "model_list[[1]] <- M1\n",
    "model_list[[2]] <- M2\n",
    "model_list[[3]] <- M3\n",
    "model_list[[4]] <- M4\n",
    "model_list[[5]] <- M5\n",
    "model_list[[6]] <- M6\n",
    "model_list[[7]] <- M7\n",
    "model_list[[8]] <- M8"
   ]
  },
  {
   "cell_type": "code",
   "execution_count": 26,
   "id": "fdc6cfb9",
   "metadata": {},
   "outputs": [
    {
     "name": "stdout",
     "output_type": "stream",
     "text": [
      "[1]  3.239425 14.109187  8.995284  3.530319  4.023987  3.638836  3.044969\n",
      "[8]  3.514467\n"
     ]
    }
   ],
   "source": [
    "### running of the crossvalidation and printing of the results\n",
    "set.seed(1)\n",
    "SEP_list=kreuzvalidierung(model_list,current_data) \n",
    "print(SEP_list)"
   ]
  },
  {
   "cell_type": "markdown",
   "id": "329d1444",
   "metadata": {},
   "source": [
    "### Modellauswahl für den Datensatz von allen Autoren zusammen:"
   ]
  },
  {
   "cell_type": "markdown",
   "id": "e8e2310e",
   "metadata": {},
   "source": [
    "<font size=\"3\">Ausführung es Codes von mit 'current_data = beech.data' und Einfügen der interaktionen zwischen den Einflussgrößen und den Authoren (as.factor(author)</font>\n",
    "<br>\n",
    "<br>"
   ]
  },
  {
   "cell_type": "markdown",
   "id": "1de8da9b",
   "metadata": {},
   "source": [
    "# Simulation für verschiedene Stichprobengrößen:"
   ]
  },
  {
   "cell_type": "code",
   "execution_count": 15,
   "id": "7412e618",
   "metadata": {},
   "outputs": [],
   "source": [
    "### function for selecting \n",
    "simulate_data <- function(data, model, n) {\n",
    "    \n",
    "    selected_rows <- sample(nrow(data), n,replace = TRUE) #mit zurücklegen\n",
    "\n",
    "    # Neue Daten mit ausgewählten Zeilen erstellen\n",
    "    selected_data <- data[selected_rows, ]\n",
    "\n",
    "\n",
    "    predictions <- predict(model, newdata = data.frame(selected_data))\n",
    "\n",
    "    residual_variance <- var(model$residuals)\n",
    "\n",
    "    random_numbers <- rnorm(n, mean = 0, sd = sqrt(residual_variance))\n",
    "\n",
    "    # returns the predicted value of the biomass with noise and the dataframe with the random selected data\n",
    "    return (list(predictions+random_numbers,selected_data))\n",
    "}"
   ]
  },
  {
   "cell_type": "code",
   "execution_count": 30,
   "id": "26567189",
   "metadata": {},
   "outputs": [],
   "source": [
    "### creation of a 3D array with axis for: Model; sample size; crossvalidation results (which model was the best one)\n",
    "\n",
    "result_list <- list()\n",
    "amount_model=length(model_list)\n",
    "\n",
    "for (m in 1:amount_model){\n",
    "    model_results <- list()\n",
    "    \n",
    "    for (i in seq(40, 200, by = 20)){\n",
    "        model_results[[as.character(i)]] <- numeric(amount_model)\n",
    "    } \n",
    "    result_list[[paste(\"Model\", m)]] <- model_results\n",
    "}"
   ]
  },
  {
   "cell_type": "markdown",
   "id": "41af6847",
   "metadata": {},
   "source": [
    "<font size=\"3\">Ausführen der kreuzvalidierung für jedes Modell, mit unterschiedlichen Stichprobengrößen (stichproben randomisiert) und Speicherung wie oft jedes Modell ausgewählt wurde </font>\n",
    "<br>\n",
    "<br>"
   ]
  },
  {
   "cell_type": "code",
   "execution_count": 31,
   "id": "e607bde8",
   "metadata": {
    "scrolled": true
   },
   "outputs": [],
   "source": [
    "set.seed(1)\n",
    "ticks=50 #amount od runs\n",
    "for (count in 1:ticks){\n",
    "    for (m in 1:amount_model){     # for every model\n",
    "        for (i in seq(40, 200, by = 20)){   # for every sample size\n",
    "            temp=simulate_data(current_data, model_list[[m]] , i)   #Creation of randomised Data\n",
    "            y_rand_data=exp(temp[[1]])  \n",
    "            data=temp[[2]]            \n",
    "            data$biom=y_rand_data\n",
    "\n",
    "\n",
    "            SEP_list=kreuzvalidierung(model_list,data)        #Cross-validate for each model with th just created data\n",
    "            index=which.min(SEP_list)                         #Index of the model with the best cross-validation result\n",
    "            \n",
    "            #The model with the best cross-validation score gets a score point\n",
    "            result_list[[paste(\"Model\", m)]][[as.character(i)]][index] <- result_list[[paste(\"Model\", m)]][[as.character(i)]][index] +1\n",
    "        } \n",
    "\n",
    "    }\n",
    "\n",
    "}"
   ]
  },
  {
   "cell_type": "markdown",
   "id": "98223755",
   "metadata": {},
   "source": [
    "<br>\n",
    "<font size=\"3\">Berechnung wie oft (prozentual) das ursprüngliche Modell (mit welchem die Zielgröße errechnet wurde) wieder als bestes Modell bestimmt wurde: </font>\n",
    "<br>\n",
    "<br>"
   ]
  },
  {
   "cell_type": "code",
   "execution_count": 32,
   "id": "029bc267",
   "metadata": {},
   "outputs": [],
   "source": [
    "all_models <- list()\n",
    "for (m in 1:amount_model){    #for every model\n",
    "    percentage <- list()\n",
    "    for (i in seq(40, 200, by = 20)){    #for every sample size\n",
    "        \n",
    "        #Calculate the percentage of times the simulation model was selected as the best model by cross-validation for each sample size i\n",
    "        percentage[[as.character(i)]] = (result_list[[paste(\"Model\", m)]][[as.character(i)]][m]/ticks)*100   \n",
    "        \n",
    "        }\n",
    "    all_models[[paste(\"Model\", m)]] <- percentage  #save in list with all models used for simulation\n",
    "}"
   ]
  },
  {
   "cell_type": "code",
   "execution_count": 49,
   "id": "eaf0b358",
   "metadata": {},
   "outputs": [
    {
     "data": {
      "image/png": "[encoded data removed]",
      "text/plain": [
       "plot without title"
      ]
     },
     "metadata": {},
     "output_type": "display_data"
    }
   ],
   "source": [
    "#plot the percentage of times the simulation model was judged to be the best model\n",
    "#Example \"Model 7\"\n",
    "options(repr.plot.width = 4, repr.plot.height = 4)\n",
    "plot(seq(40, 200, by = 20),all_models[[\"Model 3\"]])"
   ]
  },
  {
   "cell_type": "markdown",
   "id": "b53a67f0",
   "metadata": {},
   "source": [
    "## Simulation für ein Modell"
   ]
  },
  {
   "cell_type": "markdown",
   "id": "f42b8596",
   "metadata": {},
   "source": [
    "<br>\n",
    "<font size=\"3\">Da es sehr Rechenintensiv ist, jedes Modell als Simulationsmodell einmal zu nutzten und die Kreuzvalidierung für eine große Anzahl an Durchläufen, auszuführen wird sich auf ein Simulationsmodell beschränkt. In unserem Fall auf das ursprünglich beste Modell nach der Kreuzvalidierung -> Modell 7  </font>\n",
    "<br>\n",
    "<br>"
   ]
  },
  {
   "cell_type": "code",
   "execution_count": 50,
   "id": "0ce557de",
   "metadata": {},
   "outputs": [],
   "source": [
    "### creation of a 2D array with axis for: sample size; crossvalidation results (which model was the best one)\n",
    "\n",
    "model_results <- list()\n",
    "amount_model=length(model_list)\n",
    "\n",
    "for (i in seq(40, 200, by = 20)){\n",
    "    model_results[[as.character(i)]] <- numeric(amount_model)\n",
    "} \n"
   ]
  },
  {
   "cell_type": "code",
   "execution_count": 51,
   "id": "8fcf28ac",
   "metadata": {},
   "outputs": [],
   "source": [
    "set.seed(1)\n",
    "ticks=10000 #amount of runs\n",
    "for (count in 1:ticks){\n",
    "    for (i in seq(40, 200, by = 20)){   # for every Sample size\n",
    "        temp=simulate_data(current_data, M7 , i)   #Creation of randomised Data\n",
    "        y_rand_data=exp(temp[[1]])  \n",
    "        data=temp[[2]]   \n",
    "        data$biom=y_rand_data\n",
    "\n",
    "\n",
    "        SEP_list=kreuzvalidierung(model_list,data)        #Cross-validate for each model with th just created data\n",
    "        index=which.min(SEP_list)                         #Index of the model with the best cross-validation result\n",
    "        \n",
    "        #The model with the best cross-validation score gets a score point\n",
    "        model_results[[as.character(i)]][index] <- model_results[[as.character(i)]][index] +1\n",
    "    } \n",
    "\n",
    "}"
   ]
  },
  {
   "cell_type": "markdown",
   "id": "827e757b",
   "metadata": {},
   "source": [
    "<br>\n",
    "<font size=\"3\">Berechnung wie oft (prozentual) das ursprüngliche Modell (mit welchem die Zielgröße errechnet wurde) wieder als bestes Modell bestimmt wurde: </font>\n",
    "<br>\n",
    "<br>"
   ]
  },
  {
   "cell_type": "code",
   "execution_count": 69,
   "id": "0361f439",
   "metadata": {},
   "outputs": [],
   "source": [
    "M=7  #selection of the model \n",
    "percentage <- list()\n",
    "for (i in seq(40, 200, by = 20)){\n",
    "\n",
    "    #Calculate the percentage of times the simulation model was selected as the best model by cross-validation for each sample size i\n",
    "    percentage[[as.character(i)]] = (model_results[[as.character(i)]][M]/ticks)*100\n",
    "\n",
    "    }"
   ]
  },
  {
   "cell_type": "code",
   "execution_count": 70,
   "id": "fa6cd0eb",
   "metadata": {
    "scrolled": false
   },
   "outputs": [
    {
     "data": {
      "image/png": "[encoded data removed]",
      "text/plain": [
       "Plot with title \"Model 7\""
      ]
     },
     "metadata": {},
     "output_type": "display_data"
    }
   ],
   "source": [
    "options(repr.plot.width = 4, repr.plot.height = 4)\n",
    "plot(seq(40, 200, by = 20),percentage,main=paste(\"Model\",M))"
   ]
  },
  {
   "cell_type": "code",
   "execution_count": null,
   "id": "ec43c3c0",
   "metadata": {},
   "outputs": [],
   "source": [
    "my_df <- do.call(data.frame,model_results)\n",
    "my_df\n",
    "write.csv(my_df, \"simulation_M7_10000ticks.csv\", row.names = c(\"M1\",\"M2\",\"M3\",\"M4\",\"M5\",\"M6\",\"M7\",\"M8\"))"
   ]
  },
  {
   "cell_type": "markdown",
   "id": "df77854a",
   "metadata": {},
   "source": [
    "## Simulationsauswertung nach Häufigkeit der ausgewählten Einflussgrößen und deren Polynomen"
   ]
  },
  {
   "cell_type": "markdown",
   "id": "c181a883",
   "metadata": {},
   "source": [
    "<br>\n",
    "<font size=\"3\"> Eine Beurtteilung der Modelle kann auch durch die Bewertung einzelner Einflussvariablen erfolgen. Dabei wird ausgewertet, wie häufig  Modelle mit einer bestimmten Variable/Einflussgröße (z.B. age,age*2,etc.), durch die Kreuzvalidierung, ausgewählt wurden. Für jede Einflussvariable wird die relative Häufigkeit errechnet, mit der sie in einem \"besten\" Modell ausgewählt wurde. </font>\n",
    "<br>\n",
    "<br>"
   ]
  },
  {
   "cell_type": "code",
   "execution_count": 73,
   "id": "c26a9996",
   "metadata": {},
   "outputs": [],
   "source": [
    "#defining names for the influencing variables which are used in the models\n",
    "names=c(\"age\", \"age2\", \"dbh\", \"dbh2\", \"dbh3\" ,\"height\", \"height2\", \"height3\" ,\"height4\" ,\"age:dbh\" ,\"age:height\", \"dbh:height\")"
   ]
  },
  {
   "cell_type": "code",
   "execution_count": 74,
   "id": "02861a88",
   "metadata": {},
   "outputs": [],
   "source": [
    "#creating a matrix which selects for every model which variables are in the model (0) and which are not (NA)\n",
    "set_model_matrix <- function(names) {\n",
    "    E1=c(0,NA,0,NA,NA,0,NA,NA,NA,NA,NA,NA)\n",
    "    E2=c(0,0,0,0,0,0,0,0,0,NA,NA,NA)\n",
    "    E3=c(0,0,0,0,0,0,0,0,0,0,0,0)\n",
    "    E4=c(0,NA,0,0,0,0,NA,0,NA,NA,NA,NA)\n",
    "    E5=c(0,NA,0,0,0,0,NA,0,NA,NA,NA,0)\n",
    "    E6=c(0,NA,NA,NA,NA,0,NA,NA,NA,0,0,NA)\n",
    "    E7=c(NA,NA,0,NA,NA,0,NA,NA,NA,NA,NA,0)\n",
    "    E8=c(0,NA,0,NA,NA,NA,NA,NA,NA,NA,0,NA)\n",
    "\n",
    "    mat=t(cbind(E1,E2,E3,E4,E5,E6,E7,E8))  \n",
    "    colnames(mat) <- names   #naming the columns like the variables\n",
    "    return (mat)\n",
    "}"
   ]
  },
  {
   "cell_type": "code",
   "execution_count": 75,
   "id": "34e830d5",
   "metadata": {},
   "outputs": [
    {
     "data": {
      "text/html": [
       "<table>\n",
       "<thead><tr><th></th><th scope=col>age</th><th scope=col>age2</th><th scope=col>dbh</th><th scope=col>dbh2</th><th scope=col>dbh3</th><th scope=col>height</th><th scope=col>height2</th><th scope=col>height3</th><th scope=col>height4</th><th scope=col>age:dbh</th><th scope=col>age:height</th><th scope=col>dbh:height</th></tr></thead>\n",
       "<tbody>\n",
       "\t<tr><th scope=row>E1</th><td> 0</td><td>NA</td><td> 0</td><td>NA</td><td>NA</td><td> 0</td><td>NA</td><td>NA</td><td>NA</td><td>NA</td><td>NA</td><td>NA</td></tr>\n",
       "\t<tr><th scope=row>E2</th><td> 0</td><td> 0</td><td> 0</td><td> 0</td><td> 0</td><td> 0</td><td> 0</td><td> 0</td><td> 0</td><td>NA</td><td>NA</td><td>NA</td></tr>\n",
       "\t<tr><th scope=row>E3</th><td> 0</td><td> 0</td><td> 0</td><td> 0</td><td> 0</td><td> 0</td><td> 0</td><td> 0</td><td> 0</td><td> 0</td><td> 0</td><td> 0</td></tr>\n",
       "\t<tr><th scope=row>E4</th><td> 0</td><td>NA</td><td> 0</td><td> 0</td><td> 0</td><td> 0</td><td>NA</td><td> 0</td><td>NA</td><td>NA</td><td>NA</td><td>NA</td></tr>\n",
       "\t<tr><th scope=row>E5</th><td> 0</td><td>NA</td><td> 0</td><td> 0</td><td> 0</td><td> 0</td><td>NA</td><td> 0</td><td>NA</td><td>NA</td><td>NA</td><td> 0</td></tr>\n",
       "\t<tr><th scope=row>E6</th><td> 0</td><td>NA</td><td>NA</td><td>NA</td><td>NA</td><td> 0</td><td>NA</td><td>NA</td><td>NA</td><td> 0</td><td> 0</td><td>NA</td></tr>\n",
       "\t<tr><th scope=row>E7</th><td>NA</td><td>NA</td><td> 0</td><td>NA</td><td>NA</td><td> 0</td><td>NA</td><td>NA</td><td>NA</td><td>NA</td><td>NA</td><td> 0</td></tr>\n",
       "\t<tr><th scope=row>E8</th><td> 0</td><td>NA</td><td> 0</td><td>NA</td><td>NA</td><td>NA</td><td>NA</td><td>NA</td><td>NA</td><td>NA</td><td> 0</td><td>NA</td></tr>\n",
       "</tbody>\n",
       "</table>\n"
      ],
      "text/latex": [
       "\\begin{tabular}{r|llllllllllll}\n",
       "  & age & age2 & dbh & dbh2 & dbh3 & height & height2 & height3 & height4 & age:dbh & age:height & dbh:height\\\\\n",
       "\\hline\n",
       "\tE1 &  0 & NA &  0 & NA & NA &  0 & NA & NA & NA & NA & NA & NA\\\\\n",
       "\tE2 &  0 &  0 &  0 &  0 &  0 &  0 &  0 &  0 &  0 & NA & NA & NA\\\\\n",
       "\tE3 &  0 &  0 &  0 &  0 &  0 &  0 &  0 &  0 &  0 &  0 &  0 &  0\\\\\n",
       "\tE4 &  0 & NA &  0 &  0 &  0 &  0 & NA &  0 & NA & NA & NA & NA\\\\\n",
       "\tE5 &  0 & NA &  0 &  0 &  0 &  0 & NA &  0 & NA & NA & NA &  0\\\\\n",
       "\tE6 &  0 & NA & NA & NA & NA &  0 & NA & NA & NA &  0 &  0 & NA\\\\\n",
       "\tE7 & NA & NA &  0 & NA & NA &  0 & NA & NA & NA & NA & NA &  0\\\\\n",
       "\tE8 &  0 & NA &  0 & NA & NA & NA & NA & NA & NA & NA &  0 & NA\\\\\n",
       "\\end{tabular}\n"
      ],
      "text/markdown": [
       "\n",
       "| <!--/--> | age | age2 | dbh | dbh2 | dbh3 | height | height2 | height3 | height4 | age:dbh | age:height | dbh:height |\n",
       "|---|---|---|---|---|---|---|---|---|---|---|---|---|\n",
       "| E1 |  0 | NA |  0 | NA | NA |  0 | NA | NA | NA | NA | NA | NA |\n",
       "| E2 |  0 |  0 |  0 |  0 |  0 |  0 |  0 |  0 |  0 | NA | NA | NA |\n",
       "| E3 |  0 |  0 |  0 |  0 |  0 |  0 |  0 |  0 |  0 |  0 |  0 |  0 |\n",
       "| E4 |  0 | NA |  0 |  0 |  0 |  0 | NA |  0 | NA | NA | NA | NA |\n",
       "| E5 |  0 | NA |  0 |  0 |  0 |  0 | NA |  0 | NA | NA | NA |  0 |\n",
       "| E6 |  0 | NA | NA | NA | NA |  0 | NA | NA | NA |  0 |  0 | NA |\n",
       "| E7 | NA | NA |  0 | NA | NA |  0 | NA | NA | NA | NA | NA |  0 |\n",
       "| E8 |  0 | NA |  0 | NA | NA | NA | NA | NA | NA | NA |  0 | NA |\n",
       "\n"
      ],
      "text/plain": [
       "   age age2 dbh dbh2 dbh3 height height2 height3 height4 age:dbh age:height\n",
       "E1  0  NA    0  NA   NA    0     NA      NA      NA      NA      NA        \n",
       "E2  0   0    0   0    0    0      0       0       0      NA      NA        \n",
       "E3  0   0    0   0    0    0      0       0       0       0       0        \n",
       "E4  0  NA    0   0    0    0     NA       0      NA      NA      NA        \n",
       "E5  0  NA    0   0    0    0     NA       0      NA      NA      NA        \n",
       "E6  0  NA   NA  NA   NA    0     NA      NA      NA       0       0        \n",
       "E7 NA  NA    0  NA   NA    0     NA      NA      NA      NA      NA        \n",
       "E8  0  NA    0  NA   NA   NA     NA      NA      NA      NA       0        \n",
       "   dbh:height\n",
       "E1 NA        \n",
       "E2 NA        \n",
       "E3  0        \n",
       "E4 NA        \n",
       "E5  0        \n",
       "E6 NA        \n",
       "E7  0        \n",
       "E8 NA        "
      ]
     },
     "metadata": {},
     "output_type": "display_data"
    }
   ],
   "source": [
    "#execute the model matrix creation and showing the Matrix\n",
    "mat=set_model_matrix(names)\n",
    "mat"
   ]
  },
  {
   "cell_type": "code",
   "execution_count": 76,
   "id": "6e0d7b6b",
   "metadata": {},
   "outputs": [],
   "source": [
    "#to calculate the relative amount of occurences of each variable we need to know how often the variable is used in the models\n",
    "mat<-mat+1\n",
    "frequenzy_influ_variables=colSums(mat,na.rm=TRUE) #data with amount of uses of the variables in the models\n",
    "mat<-mat-1"
   ]
  },
  {
   "cell_type": "code",
   "execution_count": 77,
   "id": "dc87ced2",
   "metadata": {},
   "outputs": [],
   "source": [
    "#for every sample size the vector which model how often was selected (amount_selection) is saved in the model matrix (mat)\n",
    "#then for every variable/column the numbers are summed up -> this is the amount of selections for each variable (colSums(mat,na.rm=TRUE))\n",
    "#each entry of this vector (each amount of variables) is now devided by its amount of uses in the models (Example: height is used 7 times)\n",
    "#the resulting vector is devided by the amount of ticks and multipled with 100 (percentage) to make it compareable with other tick numbers\n",
    "influe_variables <- list()\n",
    "for (i in seq(40, 200, by = 20)){ \n",
    "    amount_selection=c(model_results[[as.character(i)]])\n",
    "    mat=set_model_matrix(names)\n",
    "    mat=mat+amount_selection\n",
    "    influe_variables[[as.character(i)]] <- ((colSums(mat,na.rm=TRUE)/frequenzy_influ_variables)/ticks)*100\n",
    "    }\n",
    "frequency_variables_percentage=round(do.call(data.frame, influe_variables),digits = 2)"
   ]
  },
  {
   "cell_type": "markdown",
   "id": "b0d758ed",
   "metadata": {},
   "source": [
    "<br>\n",
    "<font size=\"3\"> Die folgende Tabelle zeigt die relativen Häufigkeiten der Vorkommen der Einflussvariablen in den von der Kreuzvalidierung ausgewählten Modellen. Dabei ist zu beachten, dass die relative Häufigkeit duch die Anzahl geteilt wurde, mit der eine Einflussvariable in allen Modell vertreten ist (Bsp. height ist 7 mal in den 8 Modellen vertreten)</font>\n",
    "<br>\n",
    "<br>\n",
    "<font size=\"3\"> Diese Operation wurde vorgenommen, damit Einflussvariablen, welche häufig in den Modellen vorkommen, gleich gewichtet werden wie Einflussvariablen, welche kaum in den Modellen benutzt wurden.</font>\n",
    "<br>\n",
    "<br>"
   ]
  },
  {
   "cell_type": "code",
   "execution_count": 78,
   "id": "5884e766",
   "metadata": {
    "scrolled": false
   },
   "outputs": [
    {
     "data": {
      "text/html": [
       "<table>\n",
       "<thead><tr><th></th><th scope=col>X40</th><th scope=col>X60</th><th scope=col>X80</th><th scope=col>X100</th><th scope=col>X120</th><th scope=col>X140</th><th scope=col>X160</th><th scope=col>X180</th><th scope=col>X200</th></tr></thead>\n",
       "<tbody>\n",
       "\t<tr><th scope=row>age</th><td> 9.20</td><td> 8.31</td><td> 7.30</td><td> 6.53</td><td> 5.87</td><td> 5.30</td><td> 4.98</td><td> 4.30</td><td> 4.19</td></tr>\n",
       "\t<tr><th scope=row>age2</th><td> 0.83</td><td> 1.04</td><td> 1.09</td><td> 1.27</td><td> 1.50</td><td> 1.46</td><td> 1.73</td><td> 1.58</td><td> 1.83</td></tr>\n",
       "\t<tr><th scope=row>dbh</th><td>13.51</td><td>13.89</td><td>14.08</td><td>14.20</td><td>14.24</td><td>14.26</td><td>14.27</td><td>14.28</td><td>14.28</td></tr>\n",
       "\t<tr><th scope=row>dbh2</th><td> 2.21</td><td> 2.77</td><td> 3.02</td><td> 3.28</td><td> 3.59</td><td> 3.68</td><td> 4.08</td><td> 3.74</td><td> 4.13</td></tr>\n",
       "\t<tr><th scope=row>dbh3</th><td> 2.21</td><td> 2.77</td><td> 3.02</td><td> 3.28</td><td> 3.59</td><td> 3.68</td><td> 4.08</td><td> 3.74</td><td> 4.13</td></tr>\n",
       "\t<tr><th scope=row>height</th><td>10.61</td><td>11.13</td><td>11.50</td><td>11.97</td><td>12.30</td><td>12.57</td><td>12.85</td><td>13.10</td><td>13.29</td></tr>\n",
       "\t<tr><th scope=row>height2</th><td> 0.83</td><td> 1.04</td><td> 1.09</td><td> 1.27</td><td> 1.50</td><td> 1.46</td><td> 1.73</td><td> 1.58</td><td> 1.83</td></tr>\n",
       "\t<tr><th scope=row>height3</th><td> 2.21</td><td> 2.77</td><td> 3.02</td><td> 3.28</td><td> 3.59</td><td> 3.68</td><td> 4.08</td><td> 3.74</td><td> 4.13</td></tr>\n",
       "\t<tr><th scope=row>height4</th><td> 0.83</td><td> 1.04</td><td> 1.09</td><td> 1.27</td><td> 1.50</td><td> 1.46</td><td> 1.73</td><td> 1.58</td><td> 1.83</td></tr>\n",
       "\t<tr><th scope=row>age:dbh</th><td> 2.91</td><td> 1.65</td><td> 1.01</td><td> 0.66</td><td> 0.63</td><td> 0.47</td><td> 0.54</td><td> 0.48</td><td> 0.54</td></tr>\n",
       "\t<tr><th scope=row>age:height</th><td>10.51</td><td> 8.47</td><td> 7.17</td><td> 5.85</td><td> 5.06</td><td> 4.32</td><td> 3.72</td><td> 3.10</td><td> 2.67</td></tr>\n",
       "\t<tr><th scope=row>dbh:height</th><td>12.86</td><td>15.26</td><td>17.62</td><td>19.47</td><td>21.25</td><td>22.40</td><td>23.51</td><td>24.86</td><td>25.34</td></tr>\n",
       "</tbody>\n",
       "</table>\n"
      ],
      "text/latex": [
       "\\begin{tabular}{r|lllllllll}\n",
       "  & X40 & X60 & X80 & X100 & X120 & X140 & X160 & X180 & X200\\\\\n",
       "\\hline\n",
       "\tage &  9.20 &  8.31 &  7.30 &  6.53 &  5.87 &  5.30 &  4.98 &  4.30 &  4.19\\\\\n",
       "\tage2 &  0.83 &  1.04 &  1.09 &  1.27 &  1.50 &  1.46 &  1.73 &  1.58 &  1.83\\\\\n",
       "\tdbh & 13.51 & 13.89 & 14.08 & 14.20 & 14.24 & 14.26 & 14.27 & 14.28 & 14.28\\\\\n",
       "\tdbh2 &  2.21 &  2.77 &  3.02 &  3.28 &  3.59 &  3.68 &  4.08 &  3.74 &  4.13\\\\\n",
       "\tdbh3 &  2.21 &  2.77 &  3.02 &  3.28 &  3.59 &  3.68 &  4.08 &  3.74 &  4.13\\\\\n",
       "\theight & 10.61 & 11.13 & 11.50 & 11.97 & 12.30 & 12.57 & 12.85 & 13.10 & 13.29\\\\\n",
       "\theight2 &  0.83 &  1.04 &  1.09 &  1.27 &  1.50 &  1.46 &  1.73 &  1.58 &  1.83\\\\\n",
       "\theight3 &  2.21 &  2.77 &  3.02 &  3.28 &  3.59 &  3.68 &  4.08 &  3.74 &  4.13\\\\\n",
       "\theight4 &  0.83 &  1.04 &  1.09 &  1.27 &  1.50 &  1.46 &  1.73 &  1.58 &  1.83\\\\\n",
       "\tage:dbh &  2.91 &  1.65 &  1.01 &  0.66 &  0.63 &  0.47 &  0.54 &  0.48 &  0.54\\\\\n",
       "\tage:height & 10.51 &  8.47 &  7.17 &  5.85 &  5.06 &  4.32 &  3.72 &  3.10 &  2.67\\\\\n",
       "\tdbh:height & 12.86 & 15.26 & 17.62 & 19.47 & 21.25 & 22.40 & 23.51 & 24.86 & 25.34\\\\\n",
       "\\end{tabular}\n"
      ],
      "text/markdown": [
       "\n",
       "| <!--/--> | X40 | X60 | X80 | X100 | X120 | X140 | X160 | X180 | X200 |\n",
       "|---|---|---|---|---|---|---|---|---|---|\n",
       "| age |  9.20 |  8.31 |  7.30 |  6.53 |  5.87 |  5.30 |  4.98 |  4.30 |  4.19 |\n",
       "| age2 |  0.83 |  1.04 |  1.09 |  1.27 |  1.50 |  1.46 |  1.73 |  1.58 |  1.83 |\n",
       "| dbh | 13.51 | 13.89 | 14.08 | 14.20 | 14.24 | 14.26 | 14.27 | 14.28 | 14.28 |\n",
       "| dbh2 |  2.21 |  2.77 |  3.02 |  3.28 |  3.59 |  3.68 |  4.08 |  3.74 |  4.13 |\n",
       "| dbh3 |  2.21 |  2.77 |  3.02 |  3.28 |  3.59 |  3.68 |  4.08 |  3.74 |  4.13 |\n",
       "| height | 10.61 | 11.13 | 11.50 | 11.97 | 12.30 | 12.57 | 12.85 | 13.10 | 13.29 |\n",
       "| height2 |  0.83 |  1.04 |  1.09 |  1.27 |  1.50 |  1.46 |  1.73 |  1.58 |  1.83 |\n",
       "| height3 |  2.21 |  2.77 |  3.02 |  3.28 |  3.59 |  3.68 |  4.08 |  3.74 |  4.13 |\n",
       "| height4 |  0.83 |  1.04 |  1.09 |  1.27 |  1.50 |  1.46 |  1.73 |  1.58 |  1.83 |\n",
       "| age:dbh |  2.91 |  1.65 |  1.01 |  0.66 |  0.63 |  0.47 |  0.54 |  0.48 |  0.54 |\n",
       "| age:height | 10.51 |  8.47 |  7.17 |  5.85 |  5.06 |  4.32 |  3.72 |  3.10 |  2.67 |\n",
       "| dbh:height | 12.86 | 15.26 | 17.62 | 19.47 | 21.25 | 22.40 | 23.51 | 24.86 | 25.34 |\n",
       "\n"
      ],
      "text/plain": [
       "           X40   X60   X80   X100  X120  X140  X160  X180  X200 \n",
       "age         9.20  8.31  7.30  6.53  5.87  5.30  4.98  4.30  4.19\n",
       "age2        0.83  1.04  1.09  1.27  1.50  1.46  1.73  1.58  1.83\n",
       "dbh        13.51 13.89 14.08 14.20 14.24 14.26 14.27 14.28 14.28\n",
       "dbh2        2.21  2.77  3.02  3.28  3.59  3.68  4.08  3.74  4.13\n",
       "dbh3        2.21  2.77  3.02  3.28  3.59  3.68  4.08  3.74  4.13\n",
       "height     10.61 11.13 11.50 11.97 12.30 12.57 12.85 13.10 13.29\n",
       "height2     0.83  1.04  1.09  1.27  1.50  1.46  1.73  1.58  1.83\n",
       "height3     2.21  2.77  3.02  3.28  3.59  3.68  4.08  3.74  4.13\n",
       "height4     0.83  1.04  1.09  1.27  1.50  1.46  1.73  1.58  1.83\n",
       "age:dbh     2.91  1.65  1.01  0.66  0.63  0.47  0.54  0.48  0.54\n",
       "age:height 10.51  8.47  7.17  5.85  5.06  4.32  3.72  3.10  2.67\n",
       "dbh:height 12.86 15.26 17.62 19.47 21.25 22.40 23.51 24.86 25.34"
      ]
     },
     "metadata": {},
     "output_type": "display_data"
    }
   ],
   "source": [
    "frequency_variables_percentage"
   ]
  },
  {
   "cell_type": "code",
   "execution_count": 81,
   "id": "35f9dd56",
   "metadata": {},
   "outputs": [
    {
     "data": {
      "text/html": [
       "<table>\n",
       "<thead><tr><th></th><th scope=col>age</th><th scope=col>age2</th><th scope=col>dbh</th><th scope=col>dbh2</th><th scope=col>dbh3</th><th scope=col>height</th><th scope=col>height2</th><th scope=col>height3</th><th scope=col>height4</th><th scope=col>age:dbh</th><th scope=col>age:height</th><th scope=col>dbh:height</th></tr></thead>\n",
       "<tbody>\n",
       "\t<tr><th scope=row>E1</th><td>583 </td><td> NA </td><td> 583</td><td> NA </td><td> NA </td><td> 583</td><td> NA </td><td> NA </td><td> NA </td><td> NA </td><td> NA </td><td>  NA</td></tr>\n",
       "\t<tr><th scope=row>E2</th><td>261 </td><td>261 </td><td> 261</td><td>261 </td><td>261 </td><td> 261</td><td>261 </td><td>261 </td><td>261 </td><td> NA </td><td> NA </td><td>  NA</td></tr>\n",
       "\t<tr><th scope=row>E3</th><td>105 </td><td>105 </td><td> 105</td><td>105 </td><td>105 </td><td> 105</td><td>105 </td><td>105 </td><td>105 </td><td>105 </td><td>105 </td><td> 105</td></tr>\n",
       "\t<tr><th scope=row>E4</th><td>858 </td><td> NA </td><td> 858</td><td>858 </td><td>858 </td><td> 858</td><td> NA </td><td>858 </td><td> NA </td><td> NA </td><td> NA </td><td>  NA</td></tr>\n",
       "\t<tr><th scope=row>E5</th><td>430 </td><td> NA </td><td> 430</td><td>430 </td><td>430 </td><td> 430</td><td> NA </td><td>430 </td><td> NA </td><td> NA </td><td> NA </td><td> 430</td></tr>\n",
       "\t<tr><th scope=row>E6</th><td>  3 </td><td> NA </td><td>  NA</td><td> NA </td><td> NA </td><td>   3</td><td> NA </td><td> NA </td><td> NA </td><td>  3 </td><td>  3 </td><td>  NA</td></tr>\n",
       "\t<tr><th scope=row>E7</th><td> NA </td><td> NA </td><td>7066</td><td> NA </td><td> NA </td><td>7066</td><td> NA </td><td> NA </td><td> NA </td><td> NA </td><td> NA </td><td>7066</td></tr>\n",
       "\t<tr><th scope=row>E8</th><td>694 </td><td> NA </td><td> 694</td><td> NA </td><td> NA </td><td>  NA</td><td> NA </td><td> NA </td><td> NA </td><td> NA </td><td>694 </td><td>  NA</td></tr>\n",
       "</tbody>\n",
       "</table>\n"
      ],
      "text/latex": [
       "\\begin{tabular}{r|llllllllllll}\n",
       "  & age & age2 & dbh & dbh2 & dbh3 & height & height2 & height3 & height4 & age:dbh & age:height & dbh:height\\\\\n",
       "\\hline\n",
       "\tE1 & 583  &  NA  &  583 &  NA  &  NA  &  583 &  NA  &  NA  &  NA  &  NA  &  NA  &   NA\\\\\n",
       "\tE2 & 261  & 261  &  261 & 261  & 261  &  261 & 261  & 261  & 261  &  NA  &  NA  &   NA\\\\\n",
       "\tE3 & 105  & 105  &  105 & 105  & 105  &  105 & 105  & 105  & 105  & 105  & 105  &  105\\\\\n",
       "\tE4 & 858  &  NA  &  858 & 858  & 858  &  858 &  NA  & 858  &  NA  &  NA  &  NA  &   NA\\\\\n",
       "\tE5 & 430  &  NA  &  430 & 430  & 430  &  430 &  NA  & 430  &  NA  &  NA  &  NA  &  430\\\\\n",
       "\tE6 &   3  &  NA  &   NA &  NA  &  NA  &    3 &  NA  &  NA  &  NA  &   3  &   3  &   NA\\\\\n",
       "\tE7 &  NA  &  NA  & 7066 &  NA  &  NA  & 7066 &  NA  &  NA  &  NA  &  NA  &  NA  & 7066\\\\\n",
       "\tE8 & 694  &  NA  &  694 &  NA  &  NA  &   NA &  NA  &  NA  &  NA  &  NA  & 694  &   NA\\\\\n",
       "\\end{tabular}\n"
      ],
      "text/markdown": [
       "\n",
       "| <!--/--> | age | age2 | dbh | dbh2 | dbh3 | height | height2 | height3 | height4 | age:dbh | age:height | dbh:height |\n",
       "|---|---|---|---|---|---|---|---|---|---|---|---|---|\n",
       "| E1 | 583  |  NA  |  583 |  NA  |  NA  |  583 |  NA  |  NA  |  NA  |  NA  |  NA  |   NA |\n",
       "| E2 | 261  | 261  |  261 | 261  | 261  |  261 | 261  | 261  | 261  |  NA  |  NA  |   NA |\n",
       "| E3 | 105  | 105  |  105 | 105  | 105  |  105 | 105  | 105  | 105  | 105  | 105  |  105 |\n",
       "| E4 | 858  |  NA  |  858 | 858  | 858  |  858 |  NA  | 858  |  NA  |  NA  |  NA  |   NA |\n",
       "| E5 | 430  |  NA  |  430 | 430  | 430  |  430 |  NA  | 430  |  NA  |  NA  |  NA  |  430 |\n",
       "| E6 |   3  |  NA  |   NA |  NA  |  NA  |    3 |  NA  |  NA  |  NA  |   3  |   3  |   NA |\n",
       "| E7 |  NA  |  NA  | 7066 |  NA  |  NA  | 7066 |  NA  |  NA  |  NA  |  NA  |  NA  | 7066 |\n",
       "| E8 | 694  |  NA  |  694 |  NA  |  NA  |   NA |  NA  |  NA  |  NA  |  NA  | 694  |   NA |\n",
       "\n"
      ],
      "text/plain": [
       "   age age2 dbh  dbh2 dbh3 height height2 height3 height4 age:dbh age:height\n",
       "E1 583  NA   583  NA   NA   583    NA      NA      NA      NA      NA       \n",
       "E2 261 261   261 261  261   261   261     261     261      NA      NA       \n",
       "E3 105 105   105 105  105   105   105     105     105     105     105       \n",
       "E4 858  NA   858 858  858   858    NA     858      NA      NA      NA       \n",
       "E5 430  NA   430 430  430   430    NA     430      NA      NA      NA       \n",
       "E6   3  NA    NA  NA   NA     3    NA      NA      NA       3       3       \n",
       "E7  NA  NA  7066  NA   NA  7066    NA      NA      NA      NA      NA       \n",
       "E8 694  NA   694  NA   NA    NA    NA      NA      NA      NA     694       \n",
       "   dbh:height\n",
       "E1   NA      \n",
       "E2   NA      \n",
       "E3  105      \n",
       "E4   NA      \n",
       "E5  430      \n",
       "E6   NA      \n",
       "E7 7066      \n",
       "E8   NA      "
      ]
     },
     "metadata": {},
     "output_type": "display_data"
    }
   ],
   "source": [
    "mat"
   ]
  },
  {
   "cell_type": "code",
   "execution_count": null,
   "id": "678bc9d6",
   "metadata": {},
   "outputs": [],
   "source": []
  }
 ],
 "metadata": {
  "kernelspec": {
   "display_name": "R",
   "language": "R",
   "name": "ir"
  },
  "language_info": {
   "codemirror_mode": "r",
   "file_extension": ".r",
   "mimetype": "text/x-r-source",
   "name": "R",
   "pygments_lexer": "r",
   "version": "3.6.1"
  }
 },
 "nbformat": 4,
 "nbformat_minor": 5
}
