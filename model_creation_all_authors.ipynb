{
 "cells": [
  {
   "cell_type": "markdown",
   "id": "c3dd4219",
   "metadata": {},
   "source": [
    "# Modellwahlverfahren für gesamten Datensatz der Autoren"
   ]
  },
  {
   "cell_type": "markdown",
   "id": "4e5a77b2",
   "metadata": {},
   "source": [
    "### Laden der Daten"
   ]
  },
  {
   "cell_type": "code",
   "execution_count": 4,
   "id": "bce91079",
   "metadata": {
    "scrolled": true
   },
   "outputs": [
    {
     "data": {
      "image/png": "[encoded data removed]",
      "text/plain": [
       "plot without title"
      ]
     },
     "metadata": {},
     "output_type": "display_data"
    }
   ],
   "source": [
    "beech.data <- read.csv(\"buche.csv\")\n",
    "### visualisation of the correlation of the influencing factors\n",
    "options(repr.plot.width = 4, repr.plot.height = 4)\n",
    "plot(beech.data[3:5])"
   ]
  },
  {
   "cell_type": "code",
   "execution_count": 5,
   "id": "5733c40a",
   "metadata": {},
   "outputs": [
    {
     "data": {
      "text/html": [
       "<table>\n",
       "<thead><tr><th scope=col>author</th><th scope=col>hsl</th><th scope=col>age</th><th scope=col>dbh</th><th scope=col>height</th><th scope=col>biom</th></tr></thead>\n",
       "<tbody>\n",
       "\t<tr><td>Bartelink</td><td>23       </td><td>20       </td><td> 8.4     </td><td> 9.80    </td><td>22.7     </td></tr>\n",
       "\t<tr><td>Bartelink</td><td>23       </td><td>20       </td><td> 9.9     </td><td>11.25    </td><td>29.2     </td></tr>\n",
       "\t<tr><td>Bartelink</td><td>23       </td><td>20       </td><td>10.7     </td><td> 9.70    </td><td>38.7     </td></tr>\n",
       "\t<tr><td>Bartelink</td><td>23       </td><td>21       </td><td>10.6     </td><td> 9.75    </td><td>31.3     </td></tr>\n",
       "\t<tr><td>Bartelink</td><td>23       </td><td>21       </td><td>10.7     </td><td> 9.30    </td><td>32.0     </td></tr>\n",
       "\t<tr><td>Bartelink</td><td>23       </td><td>21       </td><td> 7.0     </td><td> 8.40    </td><td>11.3     </td></tr>\n",
       "</tbody>\n",
       "</table>\n"
      ],
      "text/latex": [
       "\\begin{tabular}{r|llllll}\n",
       " author & hsl & age & dbh & height & biom\\\\\n",
       "\\hline\n",
       "\t Bartelink & 23        & 20        &  8.4      &  9.80     & 22.7     \\\\\n",
       "\t Bartelink & 23        & 20        &  9.9      & 11.25     & 29.2     \\\\\n",
       "\t Bartelink & 23        & 20        & 10.7      &  9.70     & 38.7     \\\\\n",
       "\t Bartelink & 23        & 21        & 10.6      &  9.75     & 31.3     \\\\\n",
       "\t Bartelink & 23        & 21        & 10.7      &  9.30     & 32.0     \\\\\n",
       "\t Bartelink & 23        & 21        &  7.0      &  8.40     & 11.3     \\\\\n",
       "\\end{tabular}\n"
      ],
      "text/markdown": [
       "\n",
       "| author | hsl | age | dbh | height | biom |\n",
       "|---|---|---|---|---|---|\n",
       "| Bartelink | 23        | 20        |  8.4      |  9.80     | 22.7      |\n",
       "| Bartelink | 23        | 20        |  9.9      | 11.25     | 29.2      |\n",
       "| Bartelink | 23        | 20        | 10.7      |  9.70     | 38.7      |\n",
       "| Bartelink | 23        | 21        | 10.6      |  9.75     | 31.3      |\n",
       "| Bartelink | 23        | 21        | 10.7      |  9.30     | 32.0      |\n",
       "| Bartelink | 23        | 21        |  7.0      |  8.40     | 11.3      |\n",
       "\n"
      ],
      "text/plain": [
       "  author    hsl age dbh  height biom\n",
       "1 Bartelink 23  20   8.4  9.80  22.7\n",
       "2 Bartelink 23  20   9.9 11.25  29.2\n",
       "3 Bartelink 23  20  10.7  9.70  38.7\n",
       "4 Bartelink 23  21  10.6  9.75  31.3\n",
       "5 Bartelink 23  21  10.7  9.30  32.0\n",
       "6 Bartelink 23  21   7.0  8.40  11.3"
      ]
     },
     "metadata": {},
     "output_type": "display_data"
    }
   ],
   "source": [
    "head(beech.data)"
   ]
  },
  {
   "cell_type": "code",
   "execution_count": 2,
   "id": "99f187dc",
   "metadata": {},
   "outputs": [
    {
     "data": {
      "image/png": "[encoded data removed]",
      "text/plain": [
       "plot without title"
      ]
     },
     "metadata": {},
     "output_type": "display_data"
    }
   ],
   "source": [
    "### visualize the relevant dependencies of the biomass and the influencing factors \n",
    "### age is green; dbh(durchmesserBrusthöhe) is red; height is black\n",
    "\n",
    "options(repr.plot.width = 8, repr.plot.height = 2)\n",
    "par(mfrow=c(1,3), mar=c(1,3,1,1))\n",
    "plot(biom~age, data=beech.data,xlab=\"age\", ylab=\"biomass\",col=3)\n",
    "plot(biom~dbh, data=beech.data,xlab=\"dbh\", ylab=\"biomass\",col=2)\n",
    "plot(biom~height, data=beech.data,xlab=\"height\", ylab=\"biomass\")"
   ]
  },
  {
   "cell_type": "markdown",
   "id": "995c73a2",
   "metadata": {},
   "source": [
    "<br>\n",
    "<br>\n",
    "<font size=\"4\">Erstellung von Modellen für genau eine Einflussgröße um die Abhängigkeit zu analysieren:</font>\n",
    "<br>\n",
    "<br>"
   ]
  },
  {
   "cell_type": "code",
   "execution_count": 3,
   "id": "1d38f7fb",
   "metadata": {},
   "outputs": [
    {
     "data": {
      "image/png": "[encoded data removed]",
      "text/plain": [
       "plot without title"
      ]
     },
     "metadata": {},
     "output_type": "display_data"
    }
   ],
   "source": [
    "### dependency of the biomass in relation to the age of the beech\n",
    "\n",
    "options(repr.plot.width = 5, repr.plot.height = 5)\n",
    "plot(log(beech.data$age), log(beech.data$biom), xlab=\"age\", ylab=\"biomass\")\n",
    "Mage1=lm(log(biom) ~ (1 + log(age))*as.factor(author), data = beech.data)\n",
    "Mage2=lm(log(biom) ~ (1 + log(age) + I(log(age)^2))*as.factor(author), data = beech.data)\n",
    "Mage3=lm(log(biom) ~ (1 + log(age) + I(log(age)^2)+ I(log(age)^3))*as.factor(author), data = beech.data)\n",
    "\n",
    "X=model.matrix(Mage2) \n",
    "coef_vector <- as.numeric(unlist(coef(Mage2)))\n",
    "\n",
    "y =X %*% coef_vector\n",
    "#visualise the model with differet color for each author\n",
    "points(log(beech.data$age), y, col=beech.data$author, pch=16)\n",
    "legend(\"topleft\", legend=unique(beech.data$author), col=unique(beech.data$author), pch=16)"
   ]
  },
  {
   "cell_type": "code",
   "execution_count": 4,
   "id": "c2dbfc72",
   "metadata": {},
   "outputs": [
    {
     "data": {
      "text/plain": [
       "\n",
       "Call:\n",
       "lm(formula = log(biom) ~ (1 + log(age) + I(log(age)^2)) * as.factor(author), \n",
       "    data = beech.data)\n",
       "\n",
       "Residuals:\n",
       "    Min      1Q  Median      3Q     Max \n",
       "-4.0114 -0.5122  0.0668  0.6559  3.1536 \n",
       "\n",
       "Coefficients:\n",
       "                                        Estimate Std. Error t value Pr(>|t|)  \n",
       "(Intercept)                              -7.5665     4.8652  -1.555   0.1217  \n",
       "log(age)                                  3.8038     3.2178   1.182   0.2388  \n",
       "I(log(age)^2)                            -0.1046     0.5178  -0.202   0.8401  \n",
       "as.factor(author)Heller                -153.7685    69.4355  -2.215   0.0281 *\n",
       "as.factor(author)Joosten                  0.7879     6.4553   0.122   0.9030  \n",
       "log(age):as.factor(author)Heller         65.4191    32.1724   2.033   0.0436 *\n",
       "log(age):as.factor(author)Joosten        -1.3439     3.8909  -0.345   0.7302  \n",
       "I(log(age)^2):as.factor(author)Heller    -7.0199     3.7256  -1.884   0.0612 .\n",
       "I(log(age)^2):as.factor(author)Joosten    0.1973     0.5873   0.336   0.7374  \n",
       "---\n",
       "Signif. codes:  0 '***' 0.001 '**' 0.01 '*' 0.05 '.' 0.1 ' ' 1\n",
       "\n",
       "Residual standard error: 1.113 on 172 degrees of freedom\n",
       "Multiple R-squared:  0.7715,\tAdjusted R-squared:  0.7609 \n",
       "F-statistic: 72.59 on 8 and 172 DF,  p-value: < 2.2e-16\n"
      ]
     },
     "metadata": {},
     "output_type": "display_data"
    }
   ],
   "source": [
    "summary(Mage2)"
   ]
  },
  {
   "cell_type": "code",
   "execution_count": 5,
   "id": "329fb289",
   "metadata": {},
   "outputs": [
    {
     "data": {
      "image/png": "[encoded data removed]",
      "text/plain": [
       "Plot with title \"\""
      ]
     },
     "metadata": {},
     "output_type": "display_data"
    }
   ],
   "source": [
    "plot(Mage2,which=1)"
   ]
  },
  {
   "cell_type": "code",
   "execution_count": 3,
   "id": "bce75323",
   "metadata": {},
   "outputs": [
    {
     "data": {
      "image/png": "[encoded data removed]",
      "text/plain": [
       "Plot with title \"Brusthöhendurchmesser\""
      ]
     },
     "metadata": {},
     "output_type": "display_data"
    }
   ],
   "source": [
    "plot(log(beech.data$dbh), log(beech.data$biom), main=\"Brusthöhendurchmesser\", xlab=\"dbh\", ylab=\"biomass\")\n",
    "Mdbh1=lm(log(biom) ~ (1 + I(log(dbh)) +  I(log(dbh))) * as.factor(author) , data = beech.data)\n",
    "Mdbh2=lm(log(biom) ~ (1 + I(log(dbh)) + I(log(dbh)^2)) * as.factor(author) , data = beech.data)\n",
    "Mdbh3=lm(log(biom) ~ (1 + I(log(dbh)) + I(log(dbh)^2) + I(log(dbh)^3)) * as.factor(author) , data = beech.data)\n",
    "Mdbh4=lm(sqrt(biom) ~ (1 + I(sqrt(dbh)) + I(sqrt(dbh)^2))* as.factor(author) , data = beech.data)\n",
    "\n",
    "\n",
    "X=model.matrix(Mdbh2)\n",
    "coef_vector <- as.numeric(unlist(coef(Mdbh2)))\n",
    "\n",
    "y =X %*% coef_vector\n",
    "points(log(beech.data$dbh), y, col=beech.data$author, pch=16)\n",
    "legend(\"topleft\", legend=unique(beech.data$author), col=unique(beech.data$author), pch=16)"
   ]
  },
  {
   "cell_type": "code",
   "execution_count": 7,
   "id": "a45b5891",
   "metadata": {
    "scrolled": false
   },
   "outputs": [
    {
     "data": {
      "image/png": "[encoded data removed]",
      "text/plain": [
       "Plot with title \"\""
      ]
     },
     "metadata": {},
     "output_type": "display_data"
    }
   ],
   "source": [
    "plot(Mdbh2,which=1)"
   ]
  },
  {
   "cell_type": "code",
   "execution_count": 18,
   "id": "673bd8b2",
   "metadata": {},
   "outputs": [
    {
     "data": {
      "text/plain": [
       "\n",
       "Call:\n",
       "lm(formula = log(biom) ~ (1 + I(log(dbh)) + I(log(dbh)^2)) * \n",
       "    as.factor(author), data = beech.data)\n",
       "\n",
       "Residuals:\n",
       "     Min       1Q   Median       3Q      Max \n",
       "-0.94689 -0.08928  0.01204  0.12373  0.39307 \n",
       "\n",
       "Coefficients:\n",
       "                                       Estimate Std. Error t value Pr(>|t|)    \n",
       "(Intercept)                            -1.32595    0.20310  -6.529 7.18e-10 ***\n",
       "I(log(dbh))                             1.60158    0.21430   7.474 3.78e-12 ***\n",
       "I(log(dbh)^2)                           0.19310    0.05131   3.763 0.000230 ***\n",
       "as.factor(author)Heller                -0.15548    0.43318  -0.359 0.720089    \n",
       "as.factor(author)Joosten               -0.96890    0.23090  -4.196 4.34e-05 ***\n",
       "I(log(dbh)):as.factor(author)Heller     0.29298    0.41373   0.708 0.479815    \n",
       "I(log(dbh)):as.factor(author)Joosten    0.89955    0.23239   3.871 0.000154 ***\n",
       "I(log(dbh)^2):as.factor(author)Heller  -0.07505    0.09171  -0.818 0.414338    \n",
       "I(log(dbh)^2):as.factor(author)Joosten -0.18529    0.05426  -3.415 0.000796 ***\n",
       "---\n",
       "Signif. codes:  0 '***' 0.001 '**' 0.01 '*' 0.05 '.' 0.1 ' ' 1\n",
       "\n",
       "Residual standard error: 0.1962 on 172 degrees of freedom\n",
       "Multiple R-squared:  0.9929,\tAdjusted R-squared:  0.9926 \n",
       "F-statistic:  3007 on 8 and 172 DF,  p-value: < 2.2e-16\n"
      ]
     },
     "metadata": {},
     "output_type": "display_data"
    }
   ],
   "source": [
    "summary(Mdbh2)"
   ]
  },
  {
   "cell_type": "code",
   "execution_count": 16,
   "id": "76c20204",
   "metadata": {
    "scrolled": false
   },
   "outputs": [
    {
     "data": {
      "image/png": "[encoded data removed]",
      "text/plain": [
       "plot without title"
      ]
     },
     "metadata": {},
     "output_type": "display_data"
    }
   ],
   "source": [
    "plot(log(beech.data$height), log(beech.data$biom), xlab=\"height\", ylab=\"biomass\")\n",
    "Mheight1=lm(log(biom) ~ (1 + I(log(height)))*as.factor(author) , data = beech.data)\n",
    "Mheight2=lm(log(biom) ~ (1 + I(log(height))+ I(log(height)^2))* as.factor(author), data = beech.data)\n",
    "Mheight3=lm(log(biom) ~ (1 + I(log(height))+ I(log(height)^2)+ I(log(height)^3))* as.factor(author), data = beech.data)\n",
    "\n",
    "X=model.matrix(Mheight2) \n",
    "coef_vector <- as.numeric(unlist(coef(Mheight2)))\n",
    "\n",
    "y =X %*% coef_vector\n",
    "points(log(beech.data$height), y, col=beech.data$author, pch=16)\n",
    "legend(\"topleft\", legend=unique(beech.data$author), col=unique(beech.data$author), pch=16)"
   ]
  },
  {
   "cell_type": "code",
   "execution_count": 17,
   "id": "9e891531",
   "metadata": {},
   "outputs": [
    {
     "data": {
      "text/plain": [
       "\n",
       "Call:\n",
       "lm(formula = log(biom) ~ (1 + I(log(height)) + I(log(height)^2)) * \n",
       "    as.factor(author), data = beech.data)\n",
       "\n",
       "Residuals:\n",
       "     Min       1Q   Median       3Q      Max \n",
       "-1.09926 -0.34022 -0.03551  0.40235  1.28632 \n",
       "\n",
       "Coefficients:\n",
       "                                          Estimate Std. Error t value Pr(>|t|)\n",
       "(Intercept)                                -2.3130     0.9374  -2.467   0.0146\n",
       "I(log(height))                              1.9206     0.9292   2.067   0.0402\n",
       "I(log(height)^2)                            0.2306     0.2150   1.073   0.2849\n",
       "as.factor(author)Heller                    -1.4891     4.4613  -0.334   0.7390\n",
       "as.factor(author)Joosten                   -1.6955     1.1691  -1.450   0.1488\n",
       "I(log(height)):as.factor(author)Heller     -0.2647     3.5892  -0.074   0.9413\n",
       "I(log(height)):as.factor(author)Joosten     0.1028     1.0885   0.094   0.9249\n",
       "I(log(height)^2):as.factor(author)Heller    0.2215     0.7053   0.314   0.7539\n",
       "I(log(height)^2):as.factor(author)Joosten   0.1598     0.2424   0.659   0.5107\n",
       "                                           \n",
       "(Intercept)                               *\n",
       "I(log(height))                            *\n",
       "I(log(height)^2)                           \n",
       "as.factor(author)Heller                    \n",
       "as.factor(author)Joosten                   \n",
       "I(log(height)):as.factor(author)Heller     \n",
       "I(log(height)):as.factor(author)Joosten    \n",
       "I(log(height)^2):as.factor(author)Heller   \n",
       "I(log(height)^2):as.factor(author)Joosten  \n",
       "---\n",
       "Signif. codes:  0 '***' 0.001 '**' 0.01 '*' 0.05 '.' 0.1 ' ' 1\n",
       "\n",
       "Residual standard error: 0.502 on 172 degrees of freedom\n",
       "Multiple R-squared:  0.9535,\tAdjusted R-squared:  0.9514 \n",
       "F-statistic: 441.1 on 8 and 172 DF,  p-value: < 2.2e-16\n"
      ]
     },
     "metadata": {},
     "output_type": "display_data"
    }
   ],
   "source": [
    "summary(Mheight2)"
   ]
  },
  {
   "cell_type": "markdown",
   "id": "e7db30e8",
   "metadata": {},
   "source": [
    "<br>\n",
    "<br>\n",
    "<font size=\"3\">Erstellen von Modellen, die alle (relevanten) Einflussgrößen einbeziehen und aus der vorherigen Analyse als sinnvoll erachtet wurden:</font>\n",
    "<br>\n",
    "<br>"
   ]
  },
  {
   "cell_type": "code",
   "execution_count": 19,
   "id": "8fc0fe21",
   "metadata": {},
   "outputs": [],
   "source": [
    "M1=lm(log(biom) ~ (1 + I(log(age)) + log(dbh) + I(log(height))) * as.factor(author), data = beech.data)\n",
    "M2=lm(log(biom) ~ (1 + I(log(age)) + I(log(age)^2) + log(dbh) + I(log(dbh)^2) + I(log(height)) + I(log(height)^2)) * as.factor(author) , data = beech.data)\n",
    "M3=lm(log(biom) ~ (1 + I(log(age)) + I(log(age)^2) + log(dbh) + I(log(height)) + I(log(height)^2)) * as.factor(author), data = beech.data)\n",
    "M4=lm(log(biom) ~ (1 + I(log(age)) + log(dbh) + I(log(height)) + log(dbh):log(age)+log(dbh):log(height)+log(height):log(age))* as.factor(author) , data = beech.data)\n",
    "M5=lm(log(biom) ~ (1  + log(dbh)  + I(log(height)) + log(dbh):log(height))* as.factor(author) , data = beech.data)\n",
    "M6=lm(log(biom) ~ (1 + I(log(age)) + I(log(age)^2)+ log(dbh) + I(log(dbh)^2) + I(log(height))+ I(log(height)^2) + log(age):log(height))*as.factor(author), data = beech.data)\n",
    "M7=lm(log(biom) ~ 1 + I(log(age)) + log(dbh) + log(height) + as.factor(author) + as.factor(author):log(dbh), data = beech.data)\n",
    "M8=lm(log(biom) ~ 1 + I(log(age)) + log(dbh) + I(log(height)) ,data = beech.data)\n",
    "M9=lm(log(biom) ~ 1  + log(dbh)  + I(log(height)) + log(dbh):log(height) + as.factor(author) + as.factor(author):log(dbh), data = beech.data)\n"
   ]
  },
  {
   "cell_type": "markdown",
   "id": "d02456da",
   "metadata": {},
   "source": [
    "M1=lm(log(biom) ~ (1 + I(log(age)) + log(dbh) + I(log(height))) * as.factor(author)<br>\n",
    "M2=lm(log(biom) ~ (1 + I(log(age)) + I(log(age)^2) + log(dbh) + I(log(dbh)^2) + I(log(height)) + I(log(height)^2)) * as.factor(author)<br>\n",
    "M3=lm(log(biom) ~ (1 + I(log(age)) + I(log(age)^2) + log(dbh) + I(log(height)) + I(log(height)^2)) * as.factor(author)<br>\n",
    "M4=lm(log(biom) ~ (1 + I(log(age)) + log(dbh) + I(log(height)) + log(dbh):log(age)+log(dbh):log(height)+log(height):log(age))* as.factor(author)<br>\n",
    "M5=lm(log(biom) ~ (1  + log(dbh)  + I(log(height)) + log(dbh):log(height))* as.factor(author)<br>\n",
    "M6=lm(log(biom) ~ (1 + I(log(age)) + I(log(age)^2)+ log(dbh) + I(log(dbh)^2) + I(log(height))+ I(log(height)^2) + log(age):log(height))*as.factor(author)<br>\n",
    "M7=lm(log(biom) ~ 1 + I(log(age)) + log(dbh) + log(height) + as.factor(author) + as.factor(author):log(dbh)<br>\n",
    "M8=lm(log(biom) ~ 1 + I(log(age)) + log(dbh) + I(log(height))<br>\n",
    "M9=lm(log(biom) ~ 1  + log(dbh)  + I(log(height)) + log(dbh):log(height) + as.factor(author) + as.factor(author):log(dbh)\n"
   ]
  },
  {
   "cell_type": "markdown",
   "id": "3f154d5c",
   "metadata": {},
   "source": [
    "<br>\n",
    "<br>\n",
    "<font size=\"3\">Analyse der Modelle anhand des Medians der Residuals und des Residuen plots. <br> Für jeden Koeffizienten\n",
    "die Auswertung im Vergleich zu allen anderen Modellen wie der Wert für Pr(>|t|) sich verhält </font>\n",
    "<br>\n",
    "<br>"
   ]
  },
  {
   "cell_type": "code",
   "execution_count": 23,
   "id": "9738cc58",
   "metadata": {},
   "outputs": [
    {
     "data": {
      "text/plain": [
       "\n",
       "Call:\n",
       "lm(formula = log(biom) ~ (1 + log(dbh) + I(log(height)) + log(dbh):log(height)) * \n",
       "    as.factor(author), data = beech.data)\n",
       "\n",
       "Residuals:\n",
       "     Min       1Q   Median       3Q      Max \n",
       "-0.49122 -0.09806  0.01747  0.08135  0.53569 \n",
       "\n",
       "Coefficients:\n",
       "                                              Estimate Std. Error t value\n",
       "(Intercept)                                   -1.11092    0.25280  -4.395\n",
       "log(dbh)                                       1.49628    0.17334   8.632\n",
       "I(log(height))                                -0.21399    0.20745  -1.032\n",
       "as.factor(author)Heller                       -1.09440    0.81399  -1.344\n",
       "as.factor(author)Joosten                      -1.69988    0.30245  -5.620\n",
       "log(dbh):log(height)                           0.28581    0.05693   5.021\n",
       "log(dbh):as.factor(author)Heller              -0.22784    0.41288  -0.552\n",
       "log(dbh):as.factor(author)Joosten              0.45265    0.20229   2.238\n",
       "I(log(height)):as.factor(author)Heller         0.81804    0.45379   1.803\n",
       "I(log(height)):as.factor(author)Joosten        0.80309    0.23309   3.445\n",
       "log(dbh):log(height):as.factor(author)Heller  -0.07861    0.13530  -0.581\n",
       "log(dbh):log(height):as.factor(author)Joosten -0.22674    0.06235  -3.636\n",
       "                                              Pr(>|t|)    \n",
       "(Intercept)                                   1.96e-05 ***\n",
       "log(dbh)                                      4.31e-15 ***\n",
       "I(log(height))                                0.303756    \n",
       "as.factor(author)Heller                       0.180592    \n",
       "as.factor(author)Joosten                      7.72e-08 ***\n",
       "log(dbh):log(height)                          1.30e-06 ***\n",
       "log(dbh):as.factor(author)Heller              0.581795    \n",
       "log(dbh):as.factor(author)Joosten             0.026551 *  \n",
       "I(log(height)):as.factor(author)Heller        0.073221 .  \n",
       "I(log(height)):as.factor(author)Joosten       0.000719 ***\n",
       "log(dbh):log(height):as.factor(author)Heller  0.562014    \n",
       "log(dbh):log(height):as.factor(author)Joosten 0.000367 ***\n",
       "---\n",
       "Signif. codes:  0 '***' 0.001 '**' 0.01 '*' 0.05 '.' 0.1 ' ' 1\n",
       "\n",
       "Residual standard error: 0.1658 on 169 degrees of freedom\n",
       "Multiple R-squared:  0.995,\tAdjusted R-squared:  0.9947 \n",
       "F-statistic:  3069 on 11 and 169 DF,  p-value: < 2.2e-16\n"
      ]
     },
     "metadata": {},
     "output_type": "display_data"
    }
   ],
   "source": [
    "summary(M5)"
   ]
  },
  {
   "cell_type": "code",
   "execution_count": 20,
   "id": "45f67165",
   "metadata": {},
   "outputs": [],
   "source": [
    "kreuzvalidierung <- function(model_list, data) {\n",
    "    \n",
    "    n=dim(data)[1]\n",
    "    groups=floor(min(10,sqrt(n)))\n",
    "    amount_model=length(model_list)\n",
    "    r=dim(data)[1]\n",
    "    \n",
    "    index <- rep(1:groups, length.out=r)\n",
    "    index <- sample(index)\n",
    "\n",
    "    SEP_list=numeric(amount_model)\n",
    "\n",
    "\n",
    "    for (i in 1:groups)\n",
    "    {\n",
    "      ### Zerlegung\n",
    "        data.test <- data[index==i,]\n",
    "        data.train <- data[index!=i,]\n",
    "\n",
    "      ### Parameterschätzung\n",
    "        for (m in 1:amount_model){\n",
    "            suppressWarnings({\n",
    "            updated_model <- update(model_list[[m]], data = data.train)\n",
    "            SEP_list[m] <- SEP_list[m] + sum( ( log(data.test$biom) - predict(updated_model,newdata=data.test) )^2 )\n",
    "            })\n",
    "            \n",
    "        }\n",
    "    }\n",
    "\n",
    "    return (SEP_list)\n",
    "    }"
   ]
  },
  {
   "cell_type": "code",
   "execution_count": 21,
   "id": "88e02c08",
   "metadata": {},
   "outputs": [],
   "source": [
    "### creation of a list with all models\n",
    "model_list=list()\n",
    "model_list[[1]] <- M1\n",
    "model_list[[2]] <- M2\n",
    "model_list[[3]] <- M3\n",
    "model_list[[4]] <- M4\n",
    "model_list[[5]] <- M5\n",
    "model_list[[6]] <- M6\n",
    "model_list[[7]] <- M7\n",
    "model_list[[8]] <- M8\n",
    "model_list[[9]] <- M9"
   ]
  },
  {
   "cell_type": "code",
   "execution_count": 22,
   "id": "788a9c73",
   "metadata": {},
   "outputs": [
    {
     "name": "stdout",
     "output_type": "stream",
     "text": [
      "[1] 6.960618 6.638962 6.496953 6.467919 5.894307 6.425569 6.604511 7.694626\n",
      "[9] 6.177435\n"
     ]
    }
   ],
   "source": [
    "### running of the crossvalidation and printing of the results\n",
    "set.seed(1)\n",
    "SEP_list=kreuzvalidierung(model_list,beech.data) \n",
    "print(SEP_list)"
   ]
  },
  {
   "cell_type": "code",
   "execution_count": 5,
   "id": "604e197d",
   "metadata": {},
   "outputs": [
    {
     "ename": "ERROR",
     "evalue": "Error in pd.DataFrame(): konnte Funktion \"pd.DataFrame\" nicht finden\n",
     "output_type": "error",
     "traceback": [
      "Error in pd.DataFrame(): konnte Funktion \"pd.DataFrame\" nicht finden\nTraceback:\n"
     ]
    }
   ],
   "source": [
    "d=pd.DataFrame()"
   ]
  },
  {
   "cell_type": "code",
   "execution_count": null,
   "id": "b0871109",
   "metadata": {},
   "outputs": [],
   "source": []
  }
 ],
 "metadata": {
  "kernelspec": {
   "display_name": "R",
   "language": "R",
   "name": "ir"
  },
  "language_info": {
   "codemirror_mode": "r",
   "file_extension": ".r",
   "mimetype": "text/x-r-source",
   "name": "R",
   "pygments_lexer": "r",
   "version": "3.6.1"
  }
 },
 "nbformat": 4,
 "nbformat_minor": 5
}
